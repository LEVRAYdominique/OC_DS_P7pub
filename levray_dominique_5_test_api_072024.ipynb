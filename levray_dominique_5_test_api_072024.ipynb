{
 "cells": [
  {
   "cell_type": "markdown",
   "metadata": {},
   "source": [
    "***\n",
    "# Projet n°7 - Implémentez un modèle de scoring\n",
    "***\n",
    "Notebook Jupyter réalisé par Dominique LEVRAY en Juillet/Août 2024\n",
    "\n",
    "**3ème Notebook - Test_API**\n",
    "\n",
    "Ce notebook intègre :\n",
    "- Les tests de l'API de prédiction du modèle de scoring\n",
    "***\n"
   ]
  },
  {
   "cell_type": "code",
   "execution_count": 18,
   "metadata": {},
   "outputs": [],
   "source": [
    "# Importation des modules dont on aura besoin\n",
    "import os\n",
    "import time\n",
    "import re\n",
    "import numpy as np\n",
    "import pandas as pd\n",
    "import matplotlib as pl\n",
    "import matplotlib.pyplot as plt\n",
    "import seaborn as sns\n",
    "import pprint\n",
    "\n",
    "# Change le format d'affichage des floats pour être plus lisible\n",
    "pd.set_option('display.float_format', lambda x: '%.3f' % x)\n",
    "\n",
    "# Force l'affichage de toutes les colonnes et de toutes les lignes dans les fonctions head/tail/dtypes/etc... \n",
    "pd.set_option('display.max_columns',  None)     # Afficher toutes les colonnes\n",
    "pd.set_option('display.max_rows',     None)     # Afficher toutes les lignes\n",
    "pd.set_option('display.max_colwidth', 40)       # Limite sur la largeur des colonnes\n",
    "\n",
    "# Défini les tailles par défaut des polices de caractères pour tous les diagrammes matplotlib\n",
    "plt.rcParams.update({'font.size': 10}) \n",
    "plt.rcParams.update({'axes.titlesize': 12})\n",
    "plt.rcParams.update({'axes.labelsize': 10})\n",
    "plt.rcParams.update({'xtick.labelsize': 8})\n",
    "plt.rcParams.update({'ytick.labelsize': 8})\n",
    "plt.rcParams.update({'legend.fontsize': 8})\n",
    "\n",
    "# Défini les grilles par défaut pour tous les diagrammes matplotlib\n",
    "plt.rcParams.update({\"axes.grid\" : True, 'grid.color': 'green', 'grid.linestyle':'--', 'grid.linewidth':0.5})"
   ]
  },
  {
   "cell_type": "code",
   "execution_count": 3,
   "metadata": {},
   "outputs": [],
   "source": [
    "###############################################################################################################\n",
    "# Définir quelques fonctions utilitaires\n",
    "###############################################################################################################\n",
    "\n",
    "def read_csv_file(filename):\n",
    "    \"\"\" \n",
    "     Cree un dataframe depuis un fichier .csv\n",
    "    \"\"\"\n",
    "    print(f\"\\nLecture du fichier csv : data/{filename}\")\n",
    "    data_df = pd.read_csv(\"data/\"+filename,    # Nom du fichier\n",
    "                          sep      = ',',         # Séparateur virgule\n",
    "                          encoding = 'utf-8',     # Encodage UTF-8\n",
    "                         )\n",
    "    print(f\"\\tLe fichier {filename} contient {data_df.shape[0]} lignes et {data_df.shape[1]} colonnes.\")\n",
    "    return data_df\n",
    "\n",
    "#####################################################\n",
    "\n",
    "def write_csv_file(filename, data_df):\n",
    "    \"\"\" \n",
    "     Cree un fichier .csv depuis un dataframe\n",
    "    \"\"\"\n",
    "    print(f\"Ecriture du fichier csv : data/{filename}\\n\")\n",
    "    data_df.to_csv(\"data/\"+filename,       # Nom du fichier\n",
    "                   sep=',',                 # Séparateur virgule\n",
    "                   encoding = 'utf-8',      # Encodage UTF-8\n",
    "                   index=False,             # N'inclus pas l'index\n",
    "                  )"
   ]
  }
 ],
 "metadata": {
  "kernelspec": {
   "display_name": "Python 3",
   "language": "python",
   "name": "python3"
  },
  "language_info": {
   "codemirror_mode": {
    "name": "ipython",
    "version": 3
   },
   "file_extension": ".py",
   "mimetype": "text/x-python",
   "name": "python",
   "nbconvert_exporter": "python",
   "pygments_lexer": "ipython3",
   "version": "3.12.4"
  }
 },
 "nbformat": 4,
 "nbformat_minor": 2
}
